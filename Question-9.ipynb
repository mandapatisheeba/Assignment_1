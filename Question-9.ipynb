{
 "cells": [
  {
   "cell_type": "code",
   "execution_count": null,
   "id": "f4826551",
   "metadata": {},
   "outputs": [],
   "source": [
    "n= int(input(\"Enter the number of students:\"))\n",
    "L1=[]\n",
    "for i in range(n):\n",
    "    val = int(input())\n",
    "    L1.append(val)\n",
    "for i in range(0,n):\n",
    "    L1[i]=L1[i]/2.2046\n",
    "    L1[i]=float(\"{:.2f}\".format(L1[i]))\n",
    "L1\n",
    "    "
   ]
  },
  {
   "cell_type": "code",
   "execution_count": null,
   "id": "5aa45d60",
   "metadata": {},
   "outputs": [],
   "source": []
  },
  {
   "cell_type": "code",
   "execution_count": null,
   "id": "4ef76df2",
   "metadata": {},
   "outputs": [],
   "source": []
  }
 ],
 "metadata": {
  "kernelspec": {
   "display_name": "Python 3 (ipykernel)",
   "language": "python",
   "name": "python3"
  },
  "language_info": {
   "codemirror_mode": {
    "name": "ipython",
    "version": 3
   },
   "file_extension": ".py",
   "mimetype": "text/x-python",
   "name": "python",
   "nbconvert_exporter": "python",
   "pygments_lexer": "ipython3",
   "version": "3.9.12"
  }
 },
 "nbformat": 4,
 "nbformat_minor": 5
}
