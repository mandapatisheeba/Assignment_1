{
 "cells": [
  {
   "cell_type": "code",
   "execution_count": 3,
   "id": "8e85a78d",
   "metadata": {},
   "outputs": [
    {
     "name": "stdout",
     "output_type": "stream",
     "text": [
      "('Maya', 'Tory', 'Diana', 'Alan', 'Ford', 'Peter')\n",
      "No of siblings: 6\n"
     ]
    }
   ],
   "source": [
    "#creating tuples for sisters and brothers\n",
    "sisters = ('Maya','Tory','Diana')\n",
    "brothers = ('Alan','Ford','Peter')\n",
    "#joining tuples\n",
    "siblings = sisters + brothers\n",
    "print(siblings)\n",
    "#length of siblings\n",
    "print(\"No of siblings:\",len(siblings))\n",
    "family = list(siblings)\n",
    "family.append('Rose')\n",
    "family.append('Joy')\n",
    "family_members = tuple(family)\n",
    "print(family_mem)"
   ]
  },
  {
   "cell_type": "code",
   "execution_count": null,
   "id": "e59bfdd8",
   "metadata": {},
   "outputs": [],
   "source": []
  }
 ],
 "metadata": {
  "kernelspec": {
   "display_name": "Python 3 (ipykernel)",
   "language": "python",
   "name": "python3"
  },
  "language_info": {
   "codemirror_mode": {
    "name": "ipython",
    "version": 3
   },
   "file_extension": ".py",
   "mimetype": "text/x-python",
   "name": "python",
   "nbconvert_exporter": "python",
   "pygments_lexer": "ipython3",
   "version": "3.9.12"
  }
 },
 "nbformat": 4,
 "nbformat_minor": 5
}
