{
 "cells": [
  {
   "cell_type": "code",
   "execution_count": 6,
   "id": "ac7295a1",
   "metadata": {},
   "outputs": [
    {
     "name": "stdout",
     "output_type": "stream",
     "text": [
      "The area of a circle with a radius 10 is 314.0\n"
     ]
    }
   ],
   "source": [
    "radius = 10\n",
    "circle_area = 3.14 * (radius**2)\n",
    "print('The area of a circle with a radius {} is {}'.format(radius, circle_area))"
   ]
  },
  {
   "cell_type": "code",
   "execution_count": null,
   "id": "4cd4e2ce",
   "metadata": {},
   "outputs": [],
   "source": []
  }
 ],
 "metadata": {
  "kernelspec": {
   "display_name": "Python 3 (ipykernel)",
   "language": "python",
   "name": "python3"
  },
  "language_info": {
   "codemirror_mode": {
    "name": "ipython",
    "version": 3
   },
   "file_extension": ".py",
   "mimetype": "text/x-python",
   "name": "python",
   "nbconvert_exporter": "python",
   "pygments_lexer": "ipython3",
   "version": "3.9.12"
  }
 },
 "nbformat": 4,
 "nbformat_minor": 5
}
