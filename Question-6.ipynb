{
 "cells": [
  {
   "cell_type": "code",
   "execution_count": 2,
   "id": "e96d880e",
   "metadata": {},
   "outputs": [
    {
     "name": "stdout",
     "output_type": "stream",
     "text": [
      "{'teach', 'I', 'inspire', 'and', 'teacher', 'love', 'am', 'a', 'to', 'people'}\n"
     ]
    }
   ],
   "source": [
    "inp_str = \"I am a teacher and I love to inspire and teach people\"\n",
    "uniq_words = inp_str.split()\n",
    "uniq_words = set(uniq_words)\n",
    "print(uniq_words)"
   ]
  },
  {
   "cell_type": "code",
   "execution_count": null,
   "id": "558f07e8",
   "metadata": {},
   "outputs": [],
   "source": []
  }
 ],
 "metadata": {
  "kernelspec": {
   "display_name": "Python 3 (ipykernel)",
   "language": "python",
   "name": "python3"
  },
  "language_info": {
   "codemirror_mode": {
    "name": "ipython",
    "version": 3
   },
   "file_extension": ".py",
   "mimetype": "text/x-python",
   "name": "python",
   "nbconvert_exporter": "python",
   "pygments_lexer": "ipython3",
   "version": "3.9.12"
  }
 },
 "nbformat": 4,
 "nbformat_minor": 5
}
