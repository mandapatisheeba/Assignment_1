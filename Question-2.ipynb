{
 "cells": [
  {
   "cell_type": "code",
   "execution_count": 11,
   "id": "a2a16071",
   "metadata": {},
   "outputs": [
    {
     "name": "stdout",
     "output_type": "stream",
     "text": [
      "Length of Student dict: 9\n",
      "Values of student skills: ['Python', 'Java', 'SQL']\n",
      "Data type of student skills: <class 'list'>\n",
      "['Python', 'Java', 'SQL', 'C++', 'JavaScript']\n",
      "dict_keys(['name', 'color', 'breed', 'legs', 'age'])\n"
     ]
    }
   ],
   "source": [
    "dog = {\n",
    "    'name': 'Tommy',\n",
    "    'color': 'White',\n",
    "    'breed' : 'Husky',\n",
    "    'legs' : 4,\n",
    "    'age': 6\n",
    "}\n",
    "student = {\n",
    "    'first_name': 'Peter',\n",
    "    'last_name' : 'Parker',\n",
    "    'gender': 'Male',\n",
    "    'age' : 24,\n",
    "    'martial_status' : 'Single',\n",
    "    'skills': ['Python','Java','SQL'],\n",
    "    'country' : 'USA',\n",
    "    'city': 'New York',\n",
    "    'address' : 'Street10'\n",
    "}\n",
    "print(\"Length of Student dict:\",len(student))\n",
    "print(\"Values of student skills:\",student['skills'])\n",
    "print(\"Data type of student skills:\",type(student['skills']))\n",
    "student['skills'].append('C++')\n",
    "student['skills'].append('JavaScript')\n",
    "print(student['skills'])\n",
    "print(dog.keys())"
   ]
  },
  {
   "cell_type": "code",
   "execution_count": null,
   "id": "65b2648e",
   "metadata": {},
   "outputs": [],
   "source": []
  }
 ],
 "metadata": {
  "kernelspec": {
   "display_name": "Python 3 (ipykernel)",
   "language": "python",
   "name": "python3"
  },
  "language_info": {
   "codemirror_mode": {
    "name": "ipython",
    "version": 3
   },
   "file_extension": ".py",
   "mimetype": "text/x-python",
   "name": "python",
   "nbconvert_exporter": "python",
   "pygments_lexer": "ipython3",
   "version": "3.9.12"
  }
 },
 "nbformat": 4,
 "nbformat_minor": 5
}
