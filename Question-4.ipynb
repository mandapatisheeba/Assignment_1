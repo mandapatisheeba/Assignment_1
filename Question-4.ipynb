{
 "cells": [
  {
   "cell_type": "code",
   "execution_count": 25,
   "id": "b97ddf98",
   "metadata": {},
   "outputs": [
    {
     "name": "stdout",
     "output_type": "stream",
     "text": [
      "Length of it_companies: 7\n",
      "Set after adding a company: {'Twitter', 'Microsoft', 'Apple', 'Google', 'Oracle', 'Facebook', 'Amazon', 'IBM'}\n",
      "After adding multiple companies: {'TCS', 'Servicenow', 'Facebook', 'Amazon', 'Cisco', 'Microsoft', 'IBM', 'Apple', 'Google', 'Oracle', 'Twitter'}\n",
      "Set after removing a company: {'TCS', 'Servicenow', 'Facebook', 'Amazon', 'Cisco', 'Microsoft', 'Apple', 'Google', 'Oracle', 'Twitter'}\n",
      "{19, 20, 22, 24, 25, 26, 27, 28}\n",
      "{19, 20, 22, 24, 25, 26}\n",
      "True\n",
      "False\n",
      "{19, 20, 22, 24, 25, 26, 27, 28}\n",
      "{19, 20, 22, 24, 25, 26, 27, 28}\n",
      "{27, 28}\n",
      "Length of set: 5\n",
      "Length of list: 8\n"
     ]
    }
   ],
   "source": [
    "it_companies = {'Facebook', 'Google', 'Microsoft', 'Apple', 'IBM', 'Oracle', 'Amazon'}\n",
    "A = {19, 22, 24, 20, 25, 26}\n",
    "B = {19, 22, 20, 25, 26, 24, 28, 27}\n",
    "age = [22, 19, 24, 25, 26, 24, 25, 24]\n",
    "print(\"Length of it_companies:\",len(it_companies))\n",
    "#appending new company\n",
    "it_companies.add('Twitter')\n",
    "print(\"Set after adding a company:\",it_companies)\n",
    "mul_it = ['Servicenow','Cisco','TCS']\n",
    "#updating multiple companies\n",
    "it_companies.update(mul_it)\n",
    "print(\"After adding multiple companies:\",it_companies)\n",
    "#removing company\n",
    "it_companies.remove('IBM')\n",
    "print(\"Set after removing a company:\",it_companies)\n",
    "#joining two tuples\n",
    "new_join = A.union(B)\n",
    "print(new_join)\n",
    "#intersection of 2 tuples\n",
    "new_inter = A.intersection(B)\n",
    "print(new_inter)\n",
    "#Is A subset of B\n",
    "print(A.issubset(B))\n",
    "#Are A and B disjoint sets\n",
    "print(A.isdisjoint(B))\n",
    "#Join A with B and B with A\n",
    "print(A.union(B))\n",
    "print(B.union(A))\n",
    "#symmetric difference\n",
    "print(A.symmetric_difference(B))\n",
    "#deleting sets\n",
    "del A\n",
    "del B\n",
    "#list compare\n",
    "ages = set(age)\n",
    "print(\"Length of set:\",len(ages))\n",
    "print(\"Length of list:\",len(age))"
   ]
  },
  {
   "cell_type": "code",
   "execution_count": null,
   "id": "2e22d5dc",
   "metadata": {},
   "outputs": [],
   "source": []
  },
  {
   "cell_type": "code",
   "execution_count": null,
   "id": "33b25d5b",
   "metadata": {},
   "outputs": [],
   "source": []
  }
 ],
 "metadata": {
  "kernelspec": {
   "display_name": "Python 3 (ipykernel)",
   "language": "python",
   "name": "python3"
  },
  "language_info": {
   "codemirror_mode": {
    "name": "ipython",
    "version": 3
   },
   "file_extension": ".py",
   "mimetype": "text/x-python",
   "name": "python",
   "nbconvert_exporter": "python",
   "pygments_lexer": "ipython3",
   "version": "3.9.12"
  }
 },
 "nbformat": 4,
 "nbformat_minor": 5
}
