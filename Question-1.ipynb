{
 "cells": [
  {
   "cell_type": "code",
   "execution_count": 15,
   "id": "ec2fd4ad",
   "metadata": {},
   "outputs": [
    {
     "name": "stdout",
     "output_type": "stream",
     "text": [
      "[19, 19, 20, 22, 24, 24, 24, 25, 25, 26, 19, 26]\n",
      "6\n",
      "Median_age: 24.0\n",
      "Average_age: 22.75\n",
      "Age_range: 7\n"
     ]
    }
   ],
   "source": [
    "#Question-1\n",
    "ages = [19, 22, 19, 24, 20, 25, 26, 24, 25, 24]\n",
    "ages.sort()\n",
    "min_age = min(ages)\n",
    "max_age = max(ages)\n",
    "ages.append(min_age)\n",
    "ages.append(max_age)\n",
    "#Median of ages\n",
    "if len(ages)%2 == 0 :\n",
    "    median_age = (ages[midpoint-1]+ages[midpoint])/2\n",
    "else:\n",
    "    median_age = ages[midpoint]\n",
    "print(\"Median_age:\",median_age)\n",
    "#Average ages\n",
    "average_age = sum(ages)/len(ages)\n",
    "print(\"Average_age:\",average_age)\n",
    "#Range of age\n",
    "age_range = max(ages)-min(ages)\n",
    "print(\"Age_range:\",age_range)"
   ]
  },
  {
   "cell_type": "code",
   "execution_count": null,
   "id": "27813dd3",
   "metadata": {},
   "outputs": [],
   "source": []
  }
 ],
 "metadata": {
  "kernelspec": {
   "display_name": "Python 3 (ipykernel)",
   "language": "python",
   "name": "python3"
  },
  "language_info": {
   "codemirror_mode": {
    "name": "ipython",
    "version": 3
   },
   "file_extension": ".py",
   "mimetype": "text/x-python",
   "name": "python",
   "nbconvert_exporter": "python",
   "pygments_lexer": "ipython3",
   "version": "3.9.12"
  }
 },
 "nbformat": 4,
 "nbformat_minor": 5
}
