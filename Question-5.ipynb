{
 "cells": [
  {
   "cell_type": "code",
   "execution_count": 3,
   "id": "1586260f",
   "metadata": {},
   "outputs": [
    {
     "name": "stdout",
     "output_type": "stream",
     "text": [
      "Area of a circle: 2826.0\n",
      "Circumference of a circle: 188.4\n"
     ]
    }
   ],
   "source": [
    "circle_radius = 30\n",
    "_area_of_circle_ = 3.14 * ((circle_radius)**2)\n",
    "print(\"Area of a circle:\",_area_of_circle_)\n",
    "_circum_of_circle_ = 2 * 3.14 * circle_radius\n",
    "print(\"Circumference of a circle:\",_circum_of_circle_)"
   ]
  },
  {
   "cell_type": "code",
   "execution_count": null,
   "id": "849ec573",
   "metadata": {},
   "outputs": [],
   "source": [
    "radius = float(input(\"Enter the radius of a circle:\"))\n"
   ]
  }
 ],
 "metadata": {
  "kernelspec": {
   "display_name": "Python 3 (ipykernel)",
   "language": "python",
   "name": "python3"
  },
  "language_info": {
   "codemirror_mode": {
    "name": "ipython",
    "version": 3
   },
   "file_extension": ".py",
   "mimetype": "text/x-python",
   "name": "python",
   "nbconvert_exporter": "python",
   "pygments_lexer": "ipython3",
   "version": "3.9.12"
  }
 },
 "nbformat": 4,
 "nbformat_minor": 5
}
